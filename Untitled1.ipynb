{
 "cells": [
  {
   "cell_type": "code",
   "execution_count": 5,
   "id": "ee8dceea-e983-45db-98b3-3e17c4a70a48",
   "metadata": {},
   "outputs": [],
   "source": [
    "import math as mt\n",
    "import os"
   ]
  },
  {
   "cell_type": "code",
   "execution_count": 2,
   "id": "e95c4043-84c2-4858-b598-5f659c682160",
   "metadata": {},
   "outputs": [],
   "source": [
    "def PAR(a,b):\n",
    "    n_cores = os.cpu_count()\n",
    "    size_f = 40 / 8\n",
    "    size_col = n_col_b"
   ]
  },
  {
   "cell_type": "code",
   "execution_count": 6,
   "id": "0dfc33a5-ffa6-4d68-9e24-10f22bee958b",
   "metadata": {},
   "outputs": [],
   "source": [
    "cores = os.cpu_count()"
   ]
  },
  {
   "cell_type": "code",
   "execution_count": 7,
   "id": "b9d79aae-56ad-4606-a551-10e86cd1dc1c",
   "metadata": {},
   "outputs": [
    {
     "data": {
      "text/plain": [
       "4"
      ]
     },
     "execution_count": 7,
     "metadata": {},
     "output_type": "execute_result"
    }
   ],
   "source": [
    "cores"
   ]
  },
  {
   "cell_type": "code",
   "execution_count": null,
   "id": "542a5b33-f624-4b3a-8d87-b144fe12103a",
   "metadata": {},
   "outputs": [],
   "source": []
  }
 ],
 "metadata": {
  "kernelspec": {
   "display_name": "Python 3",
   "language": "python",
   "name": "python3"
  },
  "language_info": {
   "codemirror_mode": {
    "name": "ipython",
    "version": 3
   },
   "file_extension": ".py",
   "mimetype": "text/x-python",
   "name": "python",
   "nbconvert_exporter": "python",
   "pygments_lexer": "ipython3",
   "version": "3.8.8"
  }
 },
 "nbformat": 4,
 "nbformat_minor": 5
}
