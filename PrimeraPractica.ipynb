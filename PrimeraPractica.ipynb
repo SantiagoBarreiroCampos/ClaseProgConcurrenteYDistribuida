{
 "cells": [
  {
   "cell_type": "markdown",
   "id": "8f13cb2d-8591-4a4a-a557-0c3d5ac22c2a",
   "metadata": {},
   "source": [
    "Primera Práctica"
   ]
  },
  {
   "cell_type": "markdown",
   "id": "b47063e9-c5ef-4593-a66a-8278df6d7aab",
   "metadata": {},
   "source": [
    "Santiago Barreiro Campos, Exp: 22024011"
   ]
  },
  {
   "cell_type": "markdown",
   "id": "75c79d70-6dfb-47df-abcc-5dfb844724ed",
   "metadata": {},
   "source": [
    "url de la práctica:"
   ]
  },
  {
   "cell_type": "markdown",
   "id": "55a1e7d6-b7b5-4e11-9308-a8cbdec5a761",
   "metadata": {},
   "source": [
    "Fib de 40, 50 y 80"
   ]
  },
  {
   "cell_type": "code",
   "execution_count": 1,
   "id": "e63e4a83-57d0-45f9-8dc0-78ede7a7851b",
   "metadata": {},
   "outputs": [],
   "source": [
    "def f(n):\n",
    "    if n<=1:\n",
    "        return n\n",
    "    else:\n",
    "        return (f(n-1)+f(n-2))"
   ]
  },
  {
   "cell_type": "code",
   "execution_count": 4,
   "id": "60c240b7-3f39-4675-a842-9ad6b08f9dbc",
   "metadata": {},
   "outputs": [
    {
     "data": {
      "text/plain": [
       "102334155"
      ]
     },
     "execution_count": 4,
     "metadata": {},
     "output_type": "execute_result"
    }
   ],
   "source": [
    "f(40)"
   ]
  },
  {
   "cell_type": "code",
   "execution_count": null,
   "id": "467c0b46-58b9-44ba-97f0-90934f28b7a9",
   "metadata": {},
   "outputs": [],
   "source": []
  }
 ],
 "metadata": {
  "kernelspec": {
   "display_name": "Python 3",
   "language": "python",
   "name": "python3"
  },
  "language_info": {
   "codemirror_mode": {
    "name": "ipython",
    "version": 3
   },
   "file_extension": ".py",
   "mimetype": "text/x-python",
   "name": "python",
   "nbconvert_exporter": "python",
   "pygments_lexer": "ipython3",
   "version": "3.8.8"
  }
 },
 "nbformat": 4,
 "nbformat_minor": 5
}
