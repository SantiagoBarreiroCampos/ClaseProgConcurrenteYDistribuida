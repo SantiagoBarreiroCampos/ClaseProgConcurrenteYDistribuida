{
 "cells": [
  {
   "cell_type": "markdown",
   "id": "51960746-0de3-469c-9ad6-f20207585620",
   "metadata": {},
   "source": [
    "SECOND PYTHON PROGRAM"
   ]
  },
  {
   "cell_type": "markdown",
   "id": "08153081-f0fb-4539-a5ff-dfc6814acaaf",
   "metadata": {},
   "source": [
    "Santiago Barreiro Campos, EXP: 22024011"
   ]
  },
  {
   "cell_type": "markdown",
   "id": "2e8368b9-195d-4e34-a7fa-b6695fab1ee3",
   "metadata": {},
   "source": [
    "1. Cuántos cores / cpu's tiene su equipo?"
   ]
  },
  {
   "cell_type": "code",
   "execution_count": 1,
   "id": "cccde9bf-ef19-406c-b835-777bffd44d79",
   "metadata": {},
   "outputs": [],
   "source": [
    "import os"
   ]
  },
  {
   "cell_type": "code",
   "execution_count": 2,
   "id": "7821afc9-99e2-4da0-9294-3c12c5c4cf63",
   "metadata": {},
   "outputs": [
    {
     "data": {
      "text/plain": [
       "4"
      ]
     },
     "execution_count": 2,
     "metadata": {},
     "output_type": "execute_result"
    }
   ],
   "source": [
    "os.cpu_count()"
   ]
  },
  {
   "cell_type": "markdown",
   "id": "9e2abca6-d22d-45ef-8458-270d27dac9c5",
   "metadata": {},
   "source": [
    "2.Cuántos core/cpu's físicos tiene su equipo"
   ]
  },
  {
   "cell_type": "code",
   "execution_count": 12,
   "id": "d84f8c1e-5842-4592-b74f-00ef670adc1a",
   "metadata": {},
   "outputs": [
    {
     "name": "stdout",
     "output_type": "stream",
     "text": [
      "Mi equipo tiene 2.0 cores físicos\n"
     ]
    }
   ],
   "source": [
    "print(\"Mi equipo tiene \" + str(os.cpu_count()/2) + \" cores físicos\")"
   ]
  },
  {
   "cell_type": "markdown",
   "id": "e21ecb29-7cb2-48e1-88b8-17f362448f0d",
   "metadata": {},
   "source": [
    "3. Cuántos cores/cpu's lógicos tiene su equipo?"
   ]
  },
  {
   "cell_type": "code",
   "execution_count": 13,
   "id": "04e66f81-1ab6-44d5-912c-51edb871eda9",
   "metadata": {
    "tags": []
   },
   "outputs": [
    {
     "name": "stdout",
     "output_type": "stream",
     "text": [
      "Mi equipo tiene 4 cores lógicos\n"
     ]
    }
   ],
   "source": [
    "print(\"Mi equipo tiene \"+str(os.cpu_count())+\" cores lógicos\")"
   ]
  },
  {
   "cell_type": "markdown",
   "id": "b747a6ec-8588-4817-a35d-5ac2bf081408",
   "metadata": {},
   "source": [
    "4. Cree una función con el objeto de mantener su cpu activa al menos 10 segs (que no haga nada la funcion)"
   ]
  },
  {
   "cell_type": "code",
   "execution_count": 21,
   "id": "a15fe620-f79e-4d62-9d2e-c22f62343921",
   "metadata": {},
   "outputs": [],
   "source": [
    "def ten():\n",
    "    for i in range(1000):\n",
    "        pass"
   ]
  },
  {
   "cell_type": "code",
   "execution_count": 22,
   "id": "ee073c50-2b62-4c51-84e3-8e6851adf2ac",
   "metadata": {},
   "outputs": [
    {
     "data": {
      "text/plain": [
       "9708"
      ]
     },
     "execution_count": 22,
     "metadata": {},
     "output_type": "execute_result"
    }
   ],
   "source": [
    "os.getpid()"
   ]
  },
  {
   "cell_type": "code",
   "execution_count": null,
   "id": "0599c766-b4c2-4c83-b18e-737cf61876c6",
   "metadata": {},
   "outputs": [],
   "source": [
    "5. Qué versión de Python tienes instalada?"
   ]
  },
  {
   "cell_type": "code",
   "execution_count": 23,
   "id": "897adece-814a-4a6a-bf1e-2bd81848e0a9",
   "metadata": {},
   "outputs": [],
   "source": [
    "import platform as pl"
   ]
  },
  {
   "cell_type": "code",
   "execution_count": 27,
   "id": "11b2f624-65a1-4ec0-b276-d4ffdd57bad1",
   "metadata": {},
   "outputs": [
    {
     "data": {
      "text/plain": [
       "'3.8.8'"
      ]
     },
     "execution_count": 27,
     "metadata": {},
     "output_type": "execute_result"
    }
   ],
   "source": [
    "pl.python_version()"
   ]
  },
  {
   "cell_type": "markdown",
   "id": "309fd023-c234-4d88-a58e-d90648466405",
   "metadata": {},
   "source": [
    "6. El bus de su máquina es de 32 o de 64?"
   ]
  },
  {
   "cell_type": "code",
   "execution_count": 29,
   "id": "3428e971-7cef-450f-85e0-2a0eb1149794",
   "metadata": {},
   "outputs": [
    {
     "data": {
      "text/plain": [
       "('64bit', 'WindowsPE')"
      ]
     },
     "execution_count": 29,
     "metadata": {},
     "output_type": "execute_result"
    }
   ],
   "source": [
    "pl.architecture()"
   ]
  },
  {
   "cell_type": "markdown",
   "id": "4e255bf1-ed02-4aec-affd-e40a1c15170f",
   "metadata": {},
   "source": [
    "7. Cree una funcion que imprima del 1 al 10"
   ]
  },
  {
   "cell_type": "code",
   "execution_count": 31,
   "id": "2ea89f88-3778-4364-945a-5b00d4905cfa",
   "metadata": {},
   "outputs": [],
   "source": [
    "def to_ten():\n",
    "    for i in range(10):\n",
    "        print(i)"
   ]
  },
  {
   "cell_type": "markdown",
   "id": "d9c006ff-a286-41fd-90ca-622ab1b17713",
   "metadata": {},
   "source": [
    "8. Ejecute 20 veces la funcion antes mencionada de forma concurrente"
   ]
  },
  {
   "cell_type": "code",
   "execution_count": 32,
   "id": "162b3230-622d-4ed0-a407-984883be06dc",
   "metadata": {},
   "outputs": [],
   "source": [
    "import threading as th"
   ]
  },
  {
   "cell_type": "markdown",
   "id": "b9130aa3-10ea-49eb-a0d2-1546b0d0a2cf",
   "metadata": {},
   "source": [
    "th.Thread(target=to_ten).start()"
   ]
  },
  {
   "cell_type": "code",
   "execution_count": null,
   "id": "a99444c2-3c36-4bd1-8710-c6a353fc6a6a",
   "metadata": {},
   "outputs": [],
   "source": [
    "for i in range(100):\n",
    "    th.Thread(target=to_ten).start()"
   ]
  },
  {
   "cell_type": "markdown",
   "id": "1dd556b5-147b-4577-9448-bae6e67fb7dd",
   "metadata": {},
   "source": [
    "9. Cuántos hilos están activos?"
   ]
  },
  {
   "cell_type": "code",
   "execution_count": 36,
   "id": "3cc07649-78b0-48ad-9822-c5d609734c21",
   "metadata": {},
   "outputs": [
    {
     "data": {
      "text/plain": [
       "5"
      ]
     },
     "execution_count": 36,
     "metadata": {},
     "output_type": "execute_result"
    }
   ],
   "source": [
    "th.active_count()"
   ]
  },
  {
   "cell_type": "markdown",
   "id": "5d020ee3-5f8f-4171-b4bb-c3f62b0c9f4b",
   "metadata": {},
   "source": [
    "10. Imprima sus Dni's (identificadores) y mátelos"
   ]
  },
  {
   "cell_type": "code",
   "execution_count": null,
   "id": "ce7cb7a5-58f8-48a8-b94a-8e8bc9faeb46",
   "metadata": {},
   "outputs": [],
   "source": []
  }
 ],
 "metadata": {
  "kernelspec": {
   "display_name": "Python 3",
   "language": "python",
   "name": "python3"
  },
  "language_info": {
   "codemirror_mode": {
    "name": "ipython",
    "version": 3
   },
   "file_extension": ".py",
   "mimetype": "text/x-python",
   "name": "python",
   "nbconvert_exporter": "python",
   "pygments_lexer": "ipython3",
   "version": "3.8.8"
  }
 },
 "nbformat": 4,
 "nbformat_minor": 5
}
