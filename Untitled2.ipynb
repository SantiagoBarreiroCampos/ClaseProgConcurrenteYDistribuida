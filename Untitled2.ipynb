{
 "cells": [
  {
   "cell_type": "code",
   "execution_count": null,
   "id": "885c6715-c178-446b-b9b0-e66ee8e0ae3c",
   "metadata": {},
   "outputs": [],
   "source": [
    "import concurrent.futures\n",
    "import time\n",
    "import multiprocessing as mp\n",
    "import numpy as np\n",
    "import matplotlib.pyplot as plt\n",
    "\n",
    "def par_sum(inf, sup, pool=None):\n",
    "    if not pool:\n",
    "        with concurrent.futures.ThreadPoolExecutor() as capataz:\n",
    "            trabajo_a_realizar = par_sum(inf, sup, pool=capataz)\n",
    "            return sum(trabajo_completado.result() for trabajo_completado in concurrent.futures.as_completed(trabajo_a_realizar))\n",
    "    else:\n",
    "        if sup - inf <= 9_000_000:\n",
    "            return [pool.submit(sum, range(inf, sup))]\n",
    "        else:\n",
    "            mitad = (sup + inf) // 2\n",
    "            parte_izq = par_sum(inf, mitad, pool=pool)\n",
    "            parte_der = par_sum(mitad, sup, pool=pool)\n",
    "            return parte_izq + parte_der\n",
    "\n",
    "'''def par_sum(inf, sup, pool=None):\n",
    "    if not pool:\n",
    "        with concurrent.futures.ThreadPoolExecutor() as capataz:\n",
    "            trabajo_a_realizar = par_sum(inf, sup, pool=capataz)\n",
    "            return sum(trabajo_completado.result() for trabajo_completado in concurrent.futures.as_completed(trabajo_a_realizar))\n",
    "    elif sup - inf <= 100_00_000:\n",
    "        return [pool.submit(sum, range(inf, sup))]\n",
    "    else:\n",
    "        mitad = (sup + inf) // 2\n",
    "        parte_izq = par_sum(inf, mitad, pool=pool)\n",
    "        parte_der = par_sum(mitad, sup, pool=pool)\n",
    "        return parte_izq + parte_der'''\n",
    "\n",
    "def mano_sum(inf, sup):\n",
    "    return sum(range(inf, sup))\n",
    "\n",
    "if __name__ == '__main__':\n",
    "    limite_superior = 90_00_000_000\n",
    "    numero_de_ejecuciones = 1\n",
    "\n",
    "\n",
    "    print('Calculando el resultado sin usar todos los cores...')\n",
    "    tiempo_a_mano = 0\n",
    "    for i in range(numero_de_ejecuciones):\n",
    "        inicio = time.perf_counter()\n",
    "        mano_sum(1, limite_superior)\n",
    "        tiempo_a_mano += time.perf_counter() - inicio\n",
    "    tiempo_a_mano /= numero_de_ejecuciones\n",
    "\n",
    "    print('Calculando el resultado usando todos los cores......')\n",
    "    tiempo_a_toda_maquina = 0\n",
    "    for i in range(numero_de_ejecuciones):\n",
    "        inicio = time.perf_counter()\n",
    "        par_sum(1, limite_superior)\n",
    "        tiempo_a_toda_maquina += time.perf_counter() - inicio\n",
    "    tiempo_a_toda_maquina /= numero_de_ejecuciones\n",
    "\n",
    "    print('\\nTiempo_a_MANO :',round(tiempo_a_mano,3), 'segundos o,',round(tiempo_a_mano*1000,3),'milisegundos')\n",
    "    print('Tiempo_a_toda_MAQUINA :', round(tiempo_a_toda_maquina,3), 'segundos o,',round(tiempo_a_toda_maquina*1000,3),'milisegundos')\n",
    "    print('Diferencia entre tiempo a MANO y tiempo a toda MAQUINA :',round(tiempo_a_mano - tiempo_a_toda_maquina,3), 'segundos o,',round((tiempo_a_mano - tiempo_a_toda_maquina)*1000,3),'milisegundos')\n",
    "    print('Relación entre tiempo a MANO y tiempo a toda MAQUINA:',round(tiempo_a_mano / tiempo_a_toda_maquina,3),'%')\n",
    "    print('Relación entre la computación tradicional ( a mano ) VS a la programación a toda máquina:', round((tiempo_a_mano / tiempo_a_toda_maquina) / mp.cpu_count(),3)*100)\n",
    "\n",
    "    height = [tiempo_a_toda_maquina, tiempo_a_mano]\n",
    "    bars = ('A mano', 'A toda maquina')\n",
    "    x_pos = np.arange(len(bars))\n",
    "    plt.bar(x_pos, height)\n",
    "    plt.xticks(x_pos, bars)\n",
    "    plt.show()"
   ]
  },
  {
   "cell_type": "code",
   "execution_count": 4,
   "id": "e5a57d48-7f70-4e9c-a1b6-eeeed5722d22",
   "metadata": {},
   "outputs": [
    {
     "name": "stdout",
     "output_type": "stream",
     "text": [
      "\n",
      "\n",
      "Matriz  A y B se han multiplicado con exito en SECUENCIAL ha tardado  0.3112776279449463  y en PARALELO  0.29680562019348145\n"
     ]
    }
   ],
   "source": [
    "import random # Para generar num. aleatorios en la A y B \n",
    "import math\n",
    "import multiprocessing as mp  # Para trabajar en paralelo\n",
    "import time\n",
    "\n",
    "\n",
    "def sec_mult(A, B): # f() que calcula la mult. en secuencial, como toda la vida se ha hecho \n",
    "    C = [[0] * n_col_B for i in range(n_fil_A)] # Crear y poblar la matrix  C = A*B\n",
    "    for i in range(n_fil_A): # Hago la multiplicacion de AxB = C, i para iterar sobre las filas de A\n",
    "        for j in range(n_col_B): # j para iterar sobre las columnas de B\n",
    "            for k in range(n_col_A): # k para iterar en C\n",
    "                C[i][j] += A[i][k] * B[k][j] # Aqui se hace la multiplicación y guardo en C.\n",
    "    return C\n",
    "\n",
    "def par_mult(A, B): # f() que prepara el reparto de trabajo para la mult. en paralelo\n",
    "    n_cores = mp.cpu_count() # Obtengo los cores de mi pc\n",
    "    size_col = math.ceil(n_col_B/n_cores) # Columnas  a procesar x c/cpre, ver Excel adjunto\n",
    "    size_fil = math.ceil(n_fil_A/n_cores) # Filas a procesar x c/cpre, ver Excel adjunto\n",
    "    MC = mp.RawArray('i', n_fil_A * n_col_B) # Array MC de memoria compartida donde se almacenaran los resultados, ver excel adjunto\n",
    "    cores = [] # Array para guardar los cores y su trabajo\n",
    "    for core in range(n_cores):# Asigno a cada core el trabajo que le toca, ver excel adjunto\n",
    "        i_MC = min(core * size_fil, n_fil_A) # Calculo i para marcar inicio del trabajo del core en relacion a las filas\n",
    "        f_MC = min((core + 1) * size_fil, n_fil_A) # Calculo f para marcar fin del trabajo del core, ver excel\n",
    "        cores.append(mp.Process(target=par_core, args=(A, B, MC, i_MC, f_MC)))# Añado al Array los cores y su trabajo\n",
    "    for core in cores:\n",
    "        core.start()# Arranco y ejecuto el trabajo para c/ uno de los cores que tenga mi equipo, ver excel\n",
    "    # for core in cores:\n",
    "    #     core.join()# Bloqueo cualquier llamada hasta que terminen su trabajo todos los cores\n",
    "    C_2D = [[0] * n_col_B for i in range(n_fil_A)] # Convierto el array unidimensional MC en una matrix 2D (C_2D) \n",
    "    for i in range(n_fil_A):# i para iterar sobre las filas de A\n",
    "        for j in range(n_col_B):# j para iterar sobre las columnas de B\n",
    "            C_2D[i][j] = MC[i*n_col_B + j] # Guardo el C_2D los datos del array MC\n",
    "    return C_2D\n",
    "\n",
    "def par_core(A, B, MC, i_MC, f_MC): # La tarea que hacen todos los cores\n",
    "    for i in range(i_MC, f_MC): # Size representado en colores en el excel que itera sobre las filas en A\n",
    "        for j in range(len(B[0])): # Size representado en colores en el excel que itera sobre las columnas en B\n",
    "            for k in range(len(A[0])): # n_fil_B o lo que es l mismo el n_col_A\n",
    "                MC[i*len(B[0]) + j] += A[i][k] * B[k][j]# Guarda resultado en MC[] de cada core\n",
    "\n",
    "if __name__ == '__main__':\n",
    "    A = [[random.randint(0,9) for i in range(100)] for j in range(100)] # Genero A[21535220][6]con num. aleatorios del 0 al 215, ver excel\n",
    "    B = [[random.randint(0,9) for i in range(100)] for j in range(100)] # Genero B[6][21535220]con num. aleatorios del 0 al 215, ver excel\n",
    "    n_fil_A = len(A) # Obtengo num de filas de A \n",
    "    n_col_A = len(A[0]) # Obtengo num de colunmas de A \n",
    "    n_fil_B = len(B) # Obtengo num de filas de B\n",
    "    n_col_B = len(B[0]) # # Obtengo num de filas de B\n",
    "    if n_col_A != n_fil_B: raise Exception('Dimensiones no validas') # Compruebo que se puedan multiplicar A y B\n",
    "    inicioS = time.time()\n",
    "    sec_mult(A, B) # Ejecuto multiplicacion secuencial\n",
    "    finS = time.time()\n",
    "    inicioP = time.time()\n",
    "    par_mult(A, B) # Ejecuto multiplicacion paralela\n",
    "    finP = time.time()\n",
    "    print('\\n\\nMatriz  A y B se han multiplicado con exito en SECUENCIAL ha tardado ', finS-inicioS, ' y en PARALELO ', finP-inicioP)"
   ]
  },
  {
   "cell_type": "code",
   "execution_count": null,
   "id": "1f053061-2ed4-4b85-8e7e-14af035b707c",
   "metadata": {},
   "outputs": [],
   "source": [
    "import random # Para generar num. aleatorios en la A y B \n",
    "import math\n",
    "import multiprocessing as mp  # Para trabajar en paralelo\n",
    "import time\n",
    "\n",
    "\n",
    "def sec_mult(A, B): # f() que calcula la mult. en secuencial, como toda la vida se ha hecho \n",
    "    C = [[0] * n_col_B for i in range(n_fil_A)] # Crear y poblar la matrix  C = A*B\n",
    "    for i in range(n_fil_A): # Hago la multiplicacion de AxB = C, i para iterar sobre las filas de A\n",
    "        for j in range(n_col_B): # j para iterar sobre las columnas de B\n",
    "            for k in range(n_col_A): # k para iterar en C\n",
    "                C[i][j] += A[i][k] * B[k][j] # Aqui se hace la multiplicación y guardo en C.\n",
    "    return C\n",
    "\n",
    "def par_mult(A, B): # f() que prepara el reparto de trabajo para la mult. en paralelo\n",
    "    n_cores = mp.cpu_count() # Obtengo los cores de mi pc\n",
    "    size_col = math.ceil(n_col_B/n_cores) # Columnas  a procesar x c/cpre, ver Excel adjunto\n",
    "    size_fil = math.ceil(n_fil_A/n_cores) # Filas a procesar x c/cpre, ver Excel adjunto\n",
    "    MC = mp.RawArray('i', n_fil_A * n_col_B) # Array MC de memoria compartida donde se almacenaran los resultados, ver excel adjunto\n",
    "    cores = [] # Array para guardar los cores y su trabajo\n",
    "    for core in range(n_cores):# Asigno a cada core el trabajo que le toca, ver excel adjunto\n",
    "        i_MC = min(core * size_fil, n_fil_A) # Calculo i para marcar inicio del trabajo del core en relacion a las filas\n",
    "        f_MC = min((core + 1) * size_fil, n_fil_A) # Calculo f para marcar fin del trabajo del core, ver excel\n",
    "        cores.append(mp.Process(target=par_core, args=(A, B, MC, i_MC, f_MC)))# Añado al Array los cores y su trabajo\n",
    "    for core in cores:\n",
    "        core.start()# Arranco y ejecuto el trabajo para c/ uno de los cores que tenga mi equipo, ver excel\n",
    "    # for core in cores:\n",
    "    #     core.join()# Bloqueo cualquier llamada hasta que terminen su trabajo todos los cores\n",
    "    C_2D = [[0] * n_col_B for i in range(n_fil_A)] # Convierto el array unidimensional MC en una matrix 2D (C_2D) \n",
    "    for i in range(n_fil_A):# i para iterar sobre las filas de A\n",
    "        for j in range(n_col_B):# j para iterar sobre las columnas de B\n",
    "            C_2D[i][j] = MC[i*n_col_B + j] # Guardo el C_2D los datos del array MC\n",
    "    return C_2D\n",
    "\n",
    "def par_core(A, B, MC, i_MC, f_MC): # La tarea que hacen todos los cores\n",
    "    for i in range(i_MC, f_MC): # Size representado en colores en el excel que itera sobre las filas en A\n",
    "        for j in range(len(B[0])): # Size representado en colores en el excel que itera sobre las columnas en B\n",
    "            for k in range(len(A[0])): # n_fil_B o lo que es l mismo el n_col_A\n",
    "                MC[i*len(B[0]) + j] += A[i][k] * B[k][j]# Guarda resultado en MC[] de cada core\n",
    "\n",
    "if __name__ == '__main__':\n",
    "    A = [[random.randint(0,9) for i in range(131)] for j in range(131)] # Genero A[21535220][6]con num. aleatorios del 0 al 215, ver excel\n",
    "    B = [[random.randint(0,9) for i in range(131)] for j in range(131)] # Genero B[6][21535220]con num. aleatorios del 0 al 215, ver excel\n",
    "    n_fil_A = len(A) # Obtengo num de filas de A \n",
    "    n_col_A = len(A[0]) # Obtengo num de colunmas de A \n",
    "    n_fil_B = len(B) # Obtengo num de filas de B\n",
    "    n_col_B = len(B[0]) # # Obtengo num de filas de B\n",
    "    if n_col_A != n_fil_B: raise Exception('Dimensiones no validas') # Compruebo que se puedan multiplicar A y B\n",
    "    inicioS = time.time()\n",
    "    sec_mult(A, B) # Ejecuto multiplicacion secuencial\n",
    "    finS = time.time()\n",
    "    inicioP = time.time()\n",
    "    par_mult(A, B) # Ejecuto multiplicacion paralela\n",
    "    finP = time.time()\n",
    "    print('\\n\\nMatriz  A y B se han multiplicado con exito en SECUENCIAL ha tardado ', finS-inicioS, ' y en PARALELO ', finP-inicioP)"
   ]
  },
  {
   "cell_type": "code",
   "execution_count": 1,
   "id": "03c8e341-1c3a-4d74-ab7e-4e7407d747c1",
   "metadata": {},
   "outputs": [],
   "source": [
    "import os"
   ]
  },
  {
   "cell_type": "code",
   "execution_count": 2,
   "id": "af8f6037-f4d6-4156-a4c8-e3da25dcc2c4",
   "metadata": {},
   "outputs": [
    {
     "data": {
      "text/plain": [
       "32.75"
      ]
     },
     "execution_count": 2,
     "metadata": {},
     "output_type": "execute_result"
    }
   ],
   "source": [
    "131/os.cpu_count()"
   ]
  },
  {
   "cell_type": "code",
   "execution_count": 3,
   "id": "cde670ce-6f35-49a4-83ff-121cb5730caf",
   "metadata": {},
   "outputs": [
    {
     "data": {
      "text/plain": [
       "4323"
      ]
     },
     "execution_count": 3,
     "metadata": {},
     "output_type": "execute_result"
    }
   ],
   "source": [
    "33*131"
   ]
  },
  {
   "cell_type": "code",
   "execution_count": 4,
   "id": "927b6055-84c0-41c6-83eb-c1a6ea589ff4",
   "metadata": {},
   "outputs": [
    {
     "data": {
      "text/plain": [
       "17161"
      ]
     },
     "execution_count": 4,
     "metadata": {},
     "output_type": "execute_result"
    }
   ],
   "source": [
    "131*131"
   ]
  },
  {
   "cell_type": "code",
   "execution_count": 5,
   "id": "f0acbd90-0957-4eaf-b69d-a627d78b1e1f",
   "metadata": {},
   "outputs": [
    {
     "data": {
      "text/plain": [
       "4"
      ]
     },
     "execution_count": 5,
     "metadata": {},
     "output_type": "execute_result"
    }
   ],
   "source": [
    "os.cpu_count()"
   ]
  },
  {
   "cell_type": "code",
   "execution_count": null,
   "id": "f9545c0e-757b-4df6-88ff-cde1e2b9b318",
   "metadata": {},
   "outputs": [],
   "source": []
  },
  {
   "cell_type": "code",
   "execution_count": null,
   "id": "66e226ab-91e1-4820-a799-259b697e41c2",
   "metadata": {},
   "outputs": [],
   "source": []
  }
 ],
 "metadata": {
  "kernelspec": {
   "display_name": "Python 3",
   "language": "python",
   "name": "python3"
  },
  "language_info": {
   "codemirror_mode": {
    "name": "ipython",
    "version": 3
   },
   "file_extension": ".py",
   "mimetype": "text/x-python",
   "name": "python",
   "nbconvert_exporter": "python",
   "pygments_lexer": "ipython3",
   "version": "3.8.8"
  }
 },
 "nbformat": 4,
 "nbformat_minor": 5
}
