{
 "cells": [
  {
   "cell_type": "markdown",
   "id": "ac992021-54fd-492f-af59-abbb465a6823",
   "metadata": {},
   "source": [
    "DATOS COCHES"
   ]
  },
  {
   "cell_type": "code",
   "execution_count": 3,
   "id": "0cd4813f-fd96-4c78-9327-20d298cd9842",
   "metadata": {},
   "outputs": [],
   "source": [
    "import requests as rq, pandas as pd, json as js"
   ]
  },
  {
   "cell_type": "code",
   "execution_count": 4,
   "id": "bfa1d45b-e284-49f9-b8be-bada2ee2738d",
   "metadata": {},
   "outputs": [],
   "source": [
    "url = \"https://sedeaplicaciones.minetur.gob.es/ServiciosRESTCarburantes/PreciosCarburantes/EstacionesTerrestres/\""
   ]
  },
  {
   "cell_type": "code",
   "execution_count": 5,
   "id": "3840c02e-6f47-4a27-bacc-c5ad2eb44f89",
   "metadata": {},
   "outputs": [],
   "source": [
    "res = rq.api.get(url)"
   ]
  },
  {
   "cell_type": "code",
   "execution_count": 11,
   "id": "78b1c941-936f-48ed-8948-4c632a58e3a2",
   "metadata": {},
   "outputs": [
    {
     "data": {
      "text/plain": [
       "{'Cache-Control': 'private', 'Content-Length': '9251368', 'Content-Type': 'application/json; charset=utf-8', 'Server': 'Microsoft-IIS/7.5', 'X-AspNet-Version': '4.0.30319', 'X-Powered-By': 'ASP.NET', 'Access-Control-Allow-Origin': '*', 'Access-Control-Allow-Headers': 'Origin, X-Requested-With, Content-Type, Accept, Authorization', 'Access-Control-Allow-Methods': 'POST,GET,OPTIONS', 'Date': 'Tue, 26 Oct 2021 20:11:36 GMT'}"
      ]
     },
     "execution_count": 11,
     "metadata": {},
     "output_type": "execute_result"
    }
   ],
   "source": [
    "res.headers"
   ]
  },
  {
   "cell_type": "code",
   "execution_count": 7,
   "id": "86264e35-5df9-4ce7-be9b-8211827e656c",
   "metadata": {},
   "outputs": [
    {
     "name": "stdout",
     "output_type": "stream",
     "text": [
      "<class 'requests.models.Response'>\n"
     ]
    }
   ],
   "source": [
    "print(type(res))"
   ]
  },
  {
   "cell_type": "code",
   "execution_count": 8,
   "id": "73ad2cd6-043d-4a9e-8491-974a6b33da78",
   "metadata": {},
   "outputs": [],
   "source": [
    "with open(\"diesel.json\", 'wb') as r_data:\n",
    "    r_data.write(res.content)"
   ]
  },
  {
   "cell_type": "code",
   "execution_count": 9,
   "id": "322b1d6a-e4b4-48ff-85b7-d4d224ae9811",
   "metadata": {},
   "outputs": [
    {
     "data": {
      "text/html": [
       "<div>\n",
       "<style scoped>\n",
       "    .dataframe tbody tr th:only-of-type {\n",
       "        vertical-align: middle;\n",
       "    }\n",
       "\n",
       "    .dataframe tbody tr th {\n",
       "        vertical-align: top;\n",
       "    }\n",
       "\n",
       "    .dataframe thead th {\n",
       "        text-align: right;\n",
       "    }\n",
       "</style>\n",
       "<table border=\"1\" class=\"dataframe\">\n",
       "  <thead>\n",
       "    <tr style=\"text-align: right;\">\n",
       "      <th></th>\n",
       "      <th>Fecha</th>\n",
       "      <th>ListaEESSPrecio</th>\n",
       "      <th>Nota</th>\n",
       "      <th>ResultadoConsulta</th>\n",
       "    </tr>\n",
       "  </thead>\n",
       "  <tbody>\n",
       "    <tr>\n",
       "      <th>0</th>\n",
       "      <td>26/10/2021 22:11:35</td>\n",
       "      <td>{'C.P.': '02250', 'Dirección': 'AVENIDA CASTIL...</td>\n",
       "      <td>Archivo de todos los productos en todas las es...</td>\n",
       "      <td>OK</td>\n",
       "    </tr>\n",
       "    <tr>\n",
       "      <th>1</th>\n",
       "      <td>26/10/2021 22:11:35</td>\n",
       "      <td>{'C.P.': '02152', 'Dirección': 'CR CM-332, 46,...</td>\n",
       "      <td>Archivo de todos los productos en todas las es...</td>\n",
       "      <td>OK</td>\n",
       "    </tr>\n",
       "    <tr>\n",
       "      <th>2</th>\n",
       "      <td>26/10/2021 22:11:35</td>\n",
       "      <td>{'C.P.': '02001', 'Dirección': 'CALLE PRINCIPE...</td>\n",
       "      <td>Archivo de todos los productos en todas las es...</td>\n",
       "      <td>OK</td>\n",
       "    </tr>\n",
       "    <tr>\n",
       "      <th>3</th>\n",
       "      <td>26/10/2021 22:11:35</td>\n",
       "      <td>{'C.P.': '02001', 'Dirección': 'CALLE FEDERICO...</td>\n",
       "      <td>Archivo de todos los productos en todas las es...</td>\n",
       "      <td>OK</td>\n",
       "    </tr>\n",
       "    <tr>\n",
       "      <th>4</th>\n",
       "      <td>26/10/2021 22:11:35</td>\n",
       "      <td>{'C.P.': '02001', 'Dirección': 'AVENIDA 1º DE ...</td>\n",
       "      <td>Archivo de todos los productos en todas las es...</td>\n",
       "      <td>OK</td>\n",
       "    </tr>\n",
       "    <tr>\n",
       "      <th>...</th>\n",
       "      <td>...</td>\n",
       "      <td>...</td>\n",
       "      <td>...</td>\n",
       "      <td>...</td>\n",
       "    </tr>\n",
       "    <tr>\n",
       "      <th>11384</th>\n",
       "      <td>26/10/2021 22:11:35</td>\n",
       "      <td>{'C.P.': '50197', 'Dirección': 'AVENIDA DIAGON...</td>\n",
       "      <td>Archivo de todos los productos en todas las es...</td>\n",
       "      <td>OK</td>\n",
       "    </tr>\n",
       "    <tr>\n",
       "      <th>11385</th>\n",
       "      <td>26/10/2021 22:11:35</td>\n",
       "      <td>{'C.P.': '50197', 'Dirección': 'POLIGONO CALLE...</td>\n",
       "      <td>Archivo de todos los productos en todas las es...</td>\n",
       "      <td>OK</td>\n",
       "    </tr>\n",
       "    <tr>\n",
       "      <th>11386</th>\n",
       "      <td>26/10/2021 22:11:35</td>\n",
       "      <td>{'C.P.': '50800', 'Dirección': 'CARRETERA N-33...</td>\n",
       "      <td>Archivo de todos los productos en todas las es...</td>\n",
       "      <td>OK</td>\n",
       "    </tr>\n",
       "    <tr>\n",
       "      <th>11387</th>\n",
       "      <td>26/10/2021 22:11:35</td>\n",
       "      <td>{'C.P.': '50800', 'Dirección': 'CALLE AUSTRIA,...</td>\n",
       "      <td>Archivo de todos los productos en todas las es...</td>\n",
       "      <td>OK</td>\n",
       "    </tr>\n",
       "    <tr>\n",
       "      <th>11388</th>\n",
       "      <td>26/10/2021 22:11:35</td>\n",
       "      <td>{'C.P.': '50810', 'Dirección': 'CALLE COOPERAT...</td>\n",
       "      <td>Archivo de todos los productos en todas las es...</td>\n",
       "      <td>OK</td>\n",
       "    </tr>\n",
       "  </tbody>\n",
       "</table>\n",
       "<p>11389 rows × 4 columns</p>\n",
       "</div>"
      ],
      "text/plain": [
       "                     Fecha                                    ListaEESSPrecio  \\\n",
       "0      26/10/2021 22:11:35  {'C.P.': '02250', 'Dirección': 'AVENIDA CASTIL...   \n",
       "1      26/10/2021 22:11:35  {'C.P.': '02152', 'Dirección': 'CR CM-332, 46,...   \n",
       "2      26/10/2021 22:11:35  {'C.P.': '02001', 'Dirección': 'CALLE PRINCIPE...   \n",
       "3      26/10/2021 22:11:35  {'C.P.': '02001', 'Dirección': 'CALLE FEDERICO...   \n",
       "4      26/10/2021 22:11:35  {'C.P.': '02001', 'Dirección': 'AVENIDA 1º DE ...   \n",
       "...                    ...                                                ...   \n",
       "11384  26/10/2021 22:11:35  {'C.P.': '50197', 'Dirección': 'AVENIDA DIAGON...   \n",
       "11385  26/10/2021 22:11:35  {'C.P.': '50197', 'Dirección': 'POLIGONO CALLE...   \n",
       "11386  26/10/2021 22:11:35  {'C.P.': '50800', 'Dirección': 'CARRETERA N-33...   \n",
       "11387  26/10/2021 22:11:35  {'C.P.': '50800', 'Dirección': 'CALLE AUSTRIA,...   \n",
       "11388  26/10/2021 22:11:35  {'C.P.': '50810', 'Dirección': 'CALLE COOPERAT...   \n",
       "\n",
       "                                                    Nota ResultadoConsulta  \n",
       "0      Archivo de todos los productos en todas las es...                OK  \n",
       "1      Archivo de todos los productos en todas las es...                OK  \n",
       "2      Archivo de todos los productos en todas las es...                OK  \n",
       "3      Archivo de todos los productos en todas las es...                OK  \n",
       "4      Archivo de todos los productos en todas las es...                OK  \n",
       "...                                                  ...               ...  \n",
       "11384  Archivo de todos los productos en todas las es...                OK  \n",
       "11385  Archivo de todos los productos en todas las es...                OK  \n",
       "11386  Archivo de todos los productos en todas las es...                OK  \n",
       "11387  Archivo de todos los productos en todas las es...                OK  \n",
       "11388  Archivo de todos los productos en todas las es...                OK  \n",
       "\n",
       "[11389 rows x 4 columns]"
      ]
     },
     "execution_count": 9,
     "metadata": {},
     "output_type": "execute_result"
    }
   ],
   "source": [
    "pd.read_json(\"diesel.json\")"
   ]
  },
  {
   "cell_type": "code",
   "execution_count": null,
   "id": "0571dae2-32f3-4e42-b540-0e24cce31d4b",
   "metadata": {},
   "outputs": [],
   "source": []
  }
 ],
 "metadata": {
  "kernelspec": {
   "display_name": "Python 3",
   "language": "python",
   "name": "python3"
  },
  "language_info": {
   "codemirror_mode": {
    "name": "ipython",
    "version": 3
   },
   "file_extension": ".py",
   "mimetype": "text/x-python",
   "name": "python",
   "nbconvert_exporter": "python",
   "pygments_lexer": "ipython3",
   "version": "3.8.8"
  }
 },
 "nbformat": 4,
 "nbformat_minor": 5
}
